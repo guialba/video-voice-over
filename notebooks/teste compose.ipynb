{
 "cells": [
  {
   "cell_type": "code",
   "execution_count": 19,
   "metadata": {},
   "outputs": [],
   "source": [
    "import speech_recognition as sr\n",
    "import soundfile as sf\n",
    "import numpy as np\n",
    "import librosa\n",
    "import torch\n",
    "\n",
    "from transformers import AutoTokenizer, AutoModelForSeq2SeqLM, pipeline\n",
    "from datasets import load_dataset\n",
    "from moviepy.editor import *"
   ]
  },
  {
   "cell_type": "code",
   "execution_count": 20,
   "metadata": {},
   "outputs": [],
   "source": [
    "files_dir = '../files/'\n",
    "\n",
    "video_file = 'case_ai.mp4'\n",
    "sample_file = 'sample.mp4'\n",
    "audio_file = 'sample.wav'\n",
    "text_file = 'text.txt'\n",
    "new_text_file = 'new_text.txt'\n",
    "new_audio_file = 'new_sample.wav'\n",
    "\n",
    "sample_size = 20"
   ]
  },
  {
   "cell_type": "markdown",
   "metadata": {},
   "source": [
    "# Extrai Amostra"
   ]
  },
  {
   "cell_type": "code",
   "execution_count": 21,
   "metadata": {},
   "outputs": [
    {
     "name": "stderr",
     "output_type": "stream",
     "text": [
      "                                                                  \n",
      "\n",
      "\u001b[A\u001b[A                                                          \n",
      "chunk:  26%|██▋       | 79/300 [2:32:23<00:00, 243.52it/s, now=None]\n",
      "                                                                    \n",
      "\n",
      "\u001b[A\u001b[A                                                               \n",
      "chunk:  26%|██▋       | 79/300 [2:32:23<00:00, 243.52it/s, now=None]\n",
      "\u001b[A"
     ]
    },
    {
     "name": "stdout",
     "output_type": "stream",
     "text": [
      "Moviepy - Building video ../files/sample.mp4.\n",
      "MoviePy - Writing audio in sampleTEMP_MPY_wvf_snd.mp3\n"
     ]
    },
    {
     "name": "stderr",
     "output_type": "stream",
     "text": [
      "\n",
      "\n",
      "\u001b[A\u001b[A\n",
      "\n",
      "\u001b[A\u001b[A\n",
      "\n",
      "\u001b[A\u001b[A\n",
      "\n",
      "\u001b[A\u001b[A\n",
      "\n",
      "                                                                    \n",
      "\n",
      "\u001b[A\u001b[A                                                               \n",
      "chunk:  26%|██▋       | 79/300 [2:32:23<00:00, 243.52it/s, now=None]\n",
      "                                                                    \n",
      "\n",
      "\u001b[A\u001b[A                                                               \n",
      "chunk:  26%|██▋       | 79/300 [2:32:23<00:00, 243.52it/s, now=None]\n",
      "\u001b[A"
     ]
    },
    {
     "name": "stdout",
     "output_type": "stream",
     "text": [
      "MoviePy - Done.\n",
      "Moviepy - Writing video ../files/sample.mp4\n",
      "\n"
     ]
    },
    {
     "name": "stderr",
     "output_type": "stream",
     "text": [
      "\n",
      "\n",
      "\u001b[A\u001b[A\n",
      "\n",
      "\u001b[A\u001b[A\n",
      "\n",
      "\u001b[A\u001b[A\n",
      "\n",
      "\u001b[A\u001b[A\n",
      "\n",
      "\u001b[A\u001b[A\n",
      "\n",
      "\u001b[A\u001b[A\n",
      "\n",
      "\u001b[A\u001b[A\n",
      "\n",
      "\u001b[A\u001b[A\n",
      "\n",
      "\u001b[A\u001b[A\n",
      "\n",
      "\u001b[A\u001b[A\n",
      "\n",
      "\u001b[A\u001b[A\n",
      "\n",
      "\u001b[A\u001b[A\n",
      "\n",
      "\u001b[A\u001b[A\n",
      "\n",
      "\u001b[A\u001b[A\n",
      "\n",
      "\u001b[A\u001b[A\n",
      "\n",
      "\u001b[A\u001b[A\n",
      "\n",
      "\u001b[A\u001b[A\n",
      "\n",
      "\u001b[A\u001b[A\n",
      "\n",
      "\u001b[A\u001b[A\n",
      "\n",
      "\u001b[A\u001b[A\n",
      "\n",
      "\u001b[A\u001b[A\n",
      "\n",
      "\u001b[A\u001b[A\n",
      "\n",
      "\u001b[A\u001b[A\n",
      "\n",
      "\u001b[A\u001b[A\n",
      "\n",
      "\u001b[A\u001b[A\n",
      "\n",
      "\u001b[A\u001b[A\n",
      "\n",
      "\u001b[A\u001b[A\n",
      "\n",
      "\u001b[A\u001b[A\n",
      "\n",
      "\u001b[A\u001b[A\n",
      "\n",
      "\u001b[A\u001b[A\n",
      "\n",
      "\u001b[A\u001b[A\n",
      "\n",
      "\u001b[A\u001b[A\n",
      "\n",
      "\u001b[A\u001b[A\n",
      "\n",
      "\u001b[A\u001b[A\n",
      "\n",
      "                                                                    \n",
      "\n",
      "\u001b[A\u001b[A                                                               \n",
      "chunk:  26%|██▋       | 79/300 [2:32:28<00:00, 243.52it/s, now=None]\n",
      "                                                                    \n",
      "\n",
      "\u001b[A\u001b[A                                                               \n",
      "chunk:  26%|██▋       | 79/300 [2:32:28<00:00, 243.52it/s, now=None]\n",
      "                                                                    \n",
      "\n",
      "\u001b[A\u001b[A                                                               \n",
      "chunk:  26%|██▋       | 79/300 [2:32:28<00:00, 243.52it/s, now=None]\n",
      "\u001b[A"
     ]
    },
    {
     "name": "stdout",
     "output_type": "stream",
     "text": [
      "Moviepy - Done !\n",
      "Moviepy - video ready ../files/sample.mp4\n",
      "MoviePy - Writing audio in ../files/sample.wav\n"
     ]
    },
    {
     "name": "stderr",
     "output_type": "stream",
     "text": [
      "\n",
      "\n",
      "\u001b[A\u001b[A\n",
      "\n",
      "\u001b[A\u001b[A\n",
      "\n",
      "\u001b[A\u001b[A\n",
      "\n",
      "                                                                    \n",
      "\n",
      "\u001b[A\u001b[A                                                               \n",
      "chunk:  26%|██▋       | 79/300 [2:32:28<00:00, 243.52it/s, now=None]\n",
      "\u001b[A"
     ]
    },
    {
     "name": "stdout",
     "output_type": "stream",
     "text": [
      "MoviePy - Done.\n"
     ]
    }
   ],
   "source": [
    "video = VideoFileClip(files_dir+video_file)\n",
    "sample = video.subclip(0, sample_size)\n",
    "sample.write_videofile(files_dir+sample_file)\n",
    "sample.audio.write_audiofile(files_dir+audio_file)"
   ]
  },
  {
   "cell_type": "markdown",
   "metadata": {},
   "source": [
    "# Identifica Pausas na Fala"
   ]
  },
  {
   "cell_type": "code",
   "execution_count": 22,
   "metadata": {},
   "outputs": [],
   "source": [
    "audio, _ = librosa.load(files_dir+audio_file)\n",
    "\n",
    "spectrogram = np.abs(librosa.stft(audio))\n",
    "energia = librosa.feature.rms(S=spectrogram)\n",
    "limiar_energia = np.mean(energia) - 1*np.std(energia)\n",
    "tamanho_minimo_pausa = 0.15\n",
    "pausas = []\n",
    "no_pausa = False\n",
    "for i, e in enumerate(energia[0]):\n",
    "    if e < limiar_energia:\n",
    "        if not no_pausa:\n",
    "            inicio = librosa.frames_to_time(i)\n",
    "            no_pausa = True\n",
    "    else:\n",
    "        if no_pausa:\n",
    "            fim = librosa.frames_to_time(i)\n",
    "            pausas.append((inicio, fim))\n",
    "            no_pausa = False\n",
    "\n",
    "pausas = [pausa for pausa in pausas if pausa[1]-pausa[0] > tamanho_minimo_pausa]\n",
    "periodos = [(p1[1], p2[0]) for p1, p2 in zip(pausas[:-1], pausas[1:]) if p2[0]-p1[1] > tamanho_minimo_pausa]"
   ]
  },
  {
   "cell_type": "code",
   "execution_count": 23,
   "metadata": {},
   "outputs": [
    {
     "name": "stderr",
     "output_type": "stream",
     "text": [
      "                                                                    \n",
      "\n",
      "\u001b[A\u001b[A                                                               \n",
      "chunk:  26%|██▋       | 79/300 [2:32:30<00:00, 243.52it/s, now=None]\n",
      "                                                                    \n",
      "\n",
      "\u001b[A\u001b[A                                                               \n",
      "chunk:  26%|██▋       | 79/300 [2:32:30<00:00, 243.52it/s, now=None]\n",
      "\u001b[A"
     ]
    },
    {
     "name": "stdout",
     "output_type": "stream",
     "text": [
      "Moviepy - Building video ../files/0_sample.mp4.\n",
      "MoviePy - Writing audio in 0_sampleTEMP_MPY_wvf_snd.mp3\n"
     ]
    },
    {
     "name": "stderr",
     "output_type": "stream",
     "text": [
      "\n",
      "\n",
      "\u001b[A\u001b[A\n",
      "\n",
      "\u001b[A\u001b[A\n",
      "\n",
      "                                                                    \n",
      "\n",
      "\u001b[A\u001b[A                                                               \n",
      "chunk:  26%|██▋       | 79/300 [2:32:30<00:00, 243.52it/s, now=None]\n",
      "                                                                    \n",
      "\n",
      "\u001b[A\u001b[A                                                               \n",
      "chunk:  26%|██▋       | 79/300 [2:32:30<00:00, 243.52it/s, now=None]\n",
      "\u001b[A"
     ]
    },
    {
     "name": "stdout",
     "output_type": "stream",
     "text": [
      "MoviePy - Done.\n",
      "Moviepy - Writing video ../files/0_sample.mp4\n",
      "\n"
     ]
    },
    {
     "name": "stderr",
     "output_type": "stream",
     "text": [
      "\n",
      "\n",
      "\u001b[A\u001b[A\n",
      "\n",
      "\u001b[A\u001b[A\n",
      "\n",
      "\u001b[A\u001b[A\n",
      "\n",
      "\u001b[A\u001b[A\n",
      "\n",
      "\u001b[A\u001b[A\n",
      "\n",
      "                                                                    \n",
      "\n",
      "\u001b[A\u001b[A                                                               \n",
      "chunk:  26%|██▋       | 79/300 [2:32:31<00:00, 243.52it/s, now=None]\n",
      "                                                                    \n",
      "\n",
      "\u001b[A\u001b[A                                                               \n",
      "chunk:  26%|██▋       | 79/300 [2:32:31<00:00, 243.52it/s, now=None]\n",
      "                                                                    \n",
      "\n",
      "\u001b[A\u001b[A                                                               \n",
      "chunk:  26%|██▋       | 79/300 [2:32:31<00:00, 243.52it/s, now=None]\n",
      "\u001b[A"
     ]
    },
    {
     "name": "stdout",
     "output_type": "stream",
     "text": [
      "Moviepy - Done !\n",
      "Moviepy - video ready ../files/0_sample.mp4\n",
      "MoviePy - Writing audio in ../files/0_sample.wav\n"
     ]
    },
    {
     "name": "stderr",
     "output_type": "stream",
     "text": [
      "\n",
      "\n",
      "\u001b[A\u001b[A\n",
      "\n",
      "                                                                    \n",
      "\n",
      "\u001b[A\u001b[A                                                               \n",
      "chunk:  26%|██▋       | 79/300 [2:32:31<00:00, 243.52it/s, now=None]\n",
      "                                                                    \n",
      "\n",
      "\u001b[A\u001b[A                                                               \n",
      "chunk:  26%|██▋       | 79/300 [2:32:31<00:00, 243.52it/s, now=None]\n",
      "                                                                    \n",
      "\n",
      "\u001b[A\u001b[A                                                               \n",
      "chunk:  26%|██▋       | 79/300 [2:32:31<00:00, 243.52it/s, now=None]\n",
      "\u001b[A"
     ]
    },
    {
     "name": "stdout",
     "output_type": "stream",
     "text": [
      "MoviePy - Done.\n",
      "Moviepy - Building video ../files/1_sample.mp4.\n",
      "MoviePy - Writing audio in 1_sampleTEMP_MPY_wvf_snd.mp3\n"
     ]
    },
    {
     "name": "stderr",
     "output_type": "stream",
     "text": [
      "\n",
      "\n",
      "\u001b[A\u001b[A\n",
      "\n",
      "\u001b[A\u001b[A\n",
      "\n",
      "                                                                    \n",
      "\n",
      "\u001b[A\u001b[A                                                               \n",
      "chunk:  26%|██▋       | 79/300 [2:32:31<00:00, 243.52it/s, now=None]\n",
      "                                                                    \n",
      "\n",
      "\u001b[A\u001b[A                                                               \n",
      "chunk:  26%|██▋       | 79/300 [2:32:31<00:00, 243.52it/s, now=None]\n",
      "\u001b[A"
     ]
    },
    {
     "name": "stdout",
     "output_type": "stream",
     "text": [
      "MoviePy - Done.\n",
      "Moviepy - Writing video ../files/1_sample.mp4\n",
      "\n"
     ]
    },
    {
     "name": "stderr",
     "output_type": "stream",
     "text": [
      "\n",
      "\n",
      "\u001b[A\u001b[A\n",
      "\n",
      "\u001b[A\u001b[A\n",
      "\n",
      "\u001b[A\u001b[A\n",
      "\n",
      "\u001b[A\u001b[A\n",
      "\n",
      "                                                                    \n",
      "\n",
      "\u001b[A\u001b[A                                                               \n",
      "chunk:  26%|██▋       | 79/300 [2:32:32<00:00, 243.52it/s, now=None]\n",
      "                                                                    \n",
      "\n",
      "\u001b[A\u001b[A                                                               \n",
      "chunk:  26%|██▋       | 79/300 [2:32:32<00:00, 243.52it/s, now=None]\n",
      "                                                                    \n",
      "\n",
      "\u001b[A\u001b[A                                                               \n",
      "chunk:  26%|██▋       | 79/300 [2:32:32<00:00, 243.52it/s, now=None]\n",
      "\u001b[A"
     ]
    },
    {
     "name": "stdout",
     "output_type": "stream",
     "text": [
      "Moviepy - Done !\n",
      "Moviepy - video ready ../files/1_sample.mp4\n",
      "MoviePy - Writing audio in ../files/1_sample.wav\n"
     ]
    },
    {
     "name": "stderr",
     "output_type": "stream",
     "text": [
      "\n",
      "\n",
      "\u001b[A\u001b[A\n",
      "\n",
      "                                                                    \n",
      "\n",
      "\u001b[A\u001b[A                                                               \n",
      "chunk:  26%|██▋       | 79/300 [2:32:32<00:00, 243.52it/s, now=None]\n",
      "                                                                    \n",
      "\n",
      "\u001b[A\u001b[A                                                               \n",
      "chunk:  26%|██▋       | 79/300 [2:32:32<00:00, 243.52it/s, now=None]\n",
      "                                                                    \n",
      "\n",
      "\u001b[A\u001b[A                                                               \n",
      "chunk:  26%|██▋       | 79/300 [2:32:32<00:00, 243.52it/s, now=None]\n",
      "\u001b[A"
     ]
    },
    {
     "name": "stdout",
     "output_type": "stream",
     "text": [
      "MoviePy - Done.\n",
      "Moviepy - Building video ../files/2_sample.mp4.\n",
      "MoviePy - Writing audio in 2_sampleTEMP_MPY_wvf_snd.mp3\n"
     ]
    },
    {
     "name": "stderr",
     "output_type": "stream",
     "text": [
      "\n",
      "\n",
      "\u001b[A\u001b[A\n",
      "\n",
      "                                                                    \n",
      "\n",
      "\u001b[A\u001b[A                                                               \n",
      "chunk:  26%|██▋       | 79/300 [2:32:32<00:00, 243.52it/s, now=None]\n",
      "                                                                    \n",
      "\n",
      "\u001b[A\u001b[A                                                               \n",
      "chunk:  26%|██▋       | 79/300 [2:32:32<00:00, 243.52it/s, now=None]\n",
      "\u001b[A"
     ]
    },
    {
     "name": "stdout",
     "output_type": "stream",
     "text": [
      "MoviePy - Done.\n",
      "Moviepy - Writing video ../files/2_sample.mp4\n",
      "\n"
     ]
    },
    {
     "name": "stderr",
     "output_type": "stream",
     "text": [
      "\n",
      "\n",
      "\u001b[A\u001b[A\n",
      "\n",
      "\u001b[A\u001b[A\n",
      "\n",
      "                                                                    \n",
      "\n",
      "\u001b[A\u001b[A                                                               \n",
      "chunk:  26%|██▋       | 79/300 [2:32:33<00:00, 243.52it/s, now=None]\n",
      "                                                                    \n",
      "\n",
      "\u001b[A\u001b[A                                                               \n",
      "chunk:  26%|██▋       | 79/300 [2:32:33<00:00, 243.52it/s, now=None]\n",
      "                                                                    \n",
      "\n",
      "\u001b[A\u001b[A                                                               \n",
      "chunk:  26%|██▋       | 79/300 [2:32:33<00:00, 243.52it/s, now=None]\n",
      "\u001b[A"
     ]
    },
    {
     "name": "stdout",
     "output_type": "stream",
     "text": [
      "Moviepy - Done !\n",
      "Moviepy - video ready ../files/2_sample.mp4\n",
      "MoviePy - Writing audio in ../files/2_sample.wav\n"
     ]
    },
    {
     "name": "stderr",
     "output_type": "stream",
     "text": [
      "\n",
      "\n",
      "\u001b[A\u001b[A\n",
      "\n",
      "                                                                    \n",
      "\n",
      "\u001b[A\u001b[A                                                               \n",
      "chunk:  26%|██▋       | 79/300 [2:32:33<00:00, 243.52it/s, now=None]\n",
      "                                                                    \n",
      "\n",
      "\u001b[A\u001b[A                                                               \n",
      "chunk:  26%|██▋       | 79/300 [2:32:33<00:00, 243.52it/s, now=None]\n",
      "                                                                    \n",
      "\n",
      "\u001b[A\u001b[A                                                               \n",
      "chunk:  26%|██▋       | 79/300 [2:32:33<00:00, 243.52it/s, now=None]\n",
      "\u001b[A"
     ]
    },
    {
     "name": "stdout",
     "output_type": "stream",
     "text": [
      "MoviePy - Done.\n",
      "Moviepy - Building video ../files/3_sample.mp4.\n",
      "MoviePy - Writing audio in 3_sampleTEMP_MPY_wvf_snd.mp3\n"
     ]
    },
    {
     "name": "stderr",
     "output_type": "stream",
     "text": [
      "\n",
      "\n",
      "\u001b[A\u001b[A\n",
      "\n",
      "                                                                    \n",
      "\n",
      "\u001b[A\u001b[A                                                               \n",
      "chunk:  26%|██▋       | 79/300 [2:32:33<00:00, 243.52it/s, now=None]\n",
      "                                                                    \n",
      "\n",
      "\u001b[A\u001b[A                                                               \n",
      "chunk:  26%|██▋       | 79/300 [2:32:33<00:00, 243.52it/s, now=None]\n",
      "\u001b[A"
     ]
    },
    {
     "name": "stdout",
     "output_type": "stream",
     "text": [
      "MoviePy - Done.\n",
      "Moviepy - Writing video ../files/3_sample.mp4\n",
      "\n"
     ]
    },
    {
     "name": "stderr",
     "output_type": "stream",
     "text": [
      "\n",
      "\n",
      "\u001b[A\u001b[A\n",
      "\n",
      "\u001b[A\u001b[A\n",
      "\n",
      "                                                                    \n",
      "\n",
      "\u001b[A\u001b[A                                                               \n",
      "chunk:  26%|██▋       | 79/300 [2:32:33<00:00, 243.52it/s, now=None]\n",
      "                                                                    \n",
      "\n",
      "\u001b[A\u001b[A                                                               \n",
      "chunk:  26%|██▋       | 79/300 [2:32:33<00:00, 243.52it/s, now=None]\n",
      "                                                                    \n",
      "\n",
      "\u001b[A\u001b[A                                                               \n",
      "chunk:  26%|██▋       | 79/300 [2:32:33<00:00, 243.52it/s, now=None]\n",
      "\u001b[A"
     ]
    },
    {
     "name": "stdout",
     "output_type": "stream",
     "text": [
      "Moviepy - Done !\n",
      "Moviepy - video ready ../files/3_sample.mp4\n",
      "MoviePy - Writing audio in ../files/3_sample.wav\n"
     ]
    },
    {
     "name": "stderr",
     "output_type": "stream",
     "text": [
      "\n",
      "\n",
      "\u001b[A\u001b[A\n",
      "\n",
      "                                                                    \n",
      "\n",
      "\u001b[A\u001b[A                                                               \n",
      "chunk:  26%|██▋       | 79/300 [2:32:33<00:00, 243.52it/s, now=None]\n",
      "                                                                    \n",
      "\n",
      "\u001b[A\u001b[A                                                               \n",
      "chunk:  26%|██▋       | 79/300 [2:32:33<00:00, 243.52it/s, now=None]\n",
      "                                                                    \n",
      "\n",
      "\u001b[A\u001b[A                                                               \n",
      "chunk:  26%|██▋       | 79/300 [2:32:33<00:00, 243.52it/s, now=None]\n",
      "\u001b[A"
     ]
    },
    {
     "name": "stdout",
     "output_type": "stream",
     "text": [
      "MoviePy - Done.\n",
      "Moviepy - Building video ../files/4_sample.mp4.\n",
      "MoviePy - Writing audio in 4_sampleTEMP_MPY_wvf_snd.mp3\n"
     ]
    },
    {
     "name": "stderr",
     "output_type": "stream",
     "text": [
      "\n",
      "\n",
      "\u001b[A\u001b[A\n",
      "\n",
      "\u001b[A\u001b[A\n",
      "\n",
      "                                                                    \n",
      "\n",
      "\u001b[A\u001b[A                                                               \n",
      "chunk:  26%|██▋       | 79/300 [2:32:34<00:00, 243.52it/s, now=None]\n",
      "                                                                    \n",
      "\n",
      "\u001b[A\u001b[A                                                               \n",
      "chunk:  26%|██▋       | 79/300 [2:32:34<00:00, 243.52it/s, now=None]\n",
      "\u001b[A"
     ]
    },
    {
     "name": "stdout",
     "output_type": "stream",
     "text": [
      "MoviePy - Done.\n",
      "Moviepy - Writing video ../files/4_sample.mp4\n",
      "\n"
     ]
    },
    {
     "name": "stderr",
     "output_type": "stream",
     "text": [
      "\n",
      "\n",
      "\u001b[A\u001b[A\n",
      "\n",
      "\u001b[A\u001b[A\n",
      "\n",
      "\u001b[A\u001b[A\n",
      "\n",
      "\u001b[A\u001b[A\n",
      "\n",
      "\u001b[A\u001b[A\n",
      "\n",
      "\u001b[A\u001b[A\n",
      "\n",
      "\u001b[A\u001b[A\n",
      "\n",
      "\u001b[A\u001b[A\n",
      "\n",
      "\u001b[A\u001b[A\n",
      "\n",
      "                                                                    \n",
      "\n",
      "\u001b[A\u001b[A                                                               \n",
      "chunk:  26%|██▋       | 79/300 [2:32:35<00:00, 243.52it/s, now=None]\n",
      "                                                                    \n",
      "\n",
      "\u001b[A\u001b[A                                                               \n",
      "chunk:  26%|██▋       | 79/300 [2:32:35<00:00, 243.52it/s, now=None]\n",
      "                                                                    \n",
      "\n",
      "\u001b[A\u001b[A                                                               \n",
      "chunk:  26%|██▋       | 79/300 [2:32:35<00:00, 243.52it/s, now=None]\n",
      "\u001b[A"
     ]
    },
    {
     "name": "stdout",
     "output_type": "stream",
     "text": [
      "Moviepy - Done !\n",
      "Moviepy - video ready ../files/4_sample.mp4\n",
      "MoviePy - Writing audio in ../files/4_sample.wav\n"
     ]
    },
    {
     "name": "stderr",
     "output_type": "stream",
     "text": [
      "\n",
      "\n",
      "\u001b[A\u001b[A\n",
      "\n",
      "\u001b[A\u001b[A\n",
      "\n",
      "                                                                    \n",
      "\n",
      "\u001b[A\u001b[A                                                               \n",
      "chunk:  26%|██▋       | 79/300 [2:32:35<00:00, 243.52it/s, now=None]\n",
      "\u001b[A"
     ]
    },
    {
     "name": "stdout",
     "output_type": "stream",
     "text": [
      "MoviePy - Done.\n"
     ]
    }
   ],
   "source": [
    "video = VideoFileClip(files_dir+video_file)\n",
    "samples = [video.subclip(*periodo) for periodo in periodos]\n",
    "\n",
    "for i, sample in enumerate(samples):\n",
    "    sample.write_videofile(files_dir+f'{i}_'+sample_file)\n",
    "    sample.audio.write_audiofile(files_dir+f'{i}_'+audio_file)"
   ]
  },
  {
   "cell_type": "markdown",
   "metadata": {},
   "source": [
    "# Transcrição"
   ]
  },
  {
   "cell_type": "code",
   "execution_count": 24,
   "metadata": {},
   "outputs": [
    {
     "name": "stderr",
     "output_type": "stream",
     "text": [
      "                                                                    "
     ]
    },
    {
     "name": "stdout",
     "output_type": "stream",
     "text": [
      "[' Você quer ganhar dinheiro trabalhando pela internet?', ' Pela rotimarte você tem duas formas de fazer isso.', ' O COMPRODUTO!', ' Ou como afiliado.', ' Hoje nós vamos mostrar o passo a passo para você fazer a sua primeira venda como afiliado na Rotemart.']\n"
     ]
    }
   ],
   "source": [
    "audio_samples = []\n",
    "\n",
    "for i, _ in enumerate(samples):\n",
    "    r = sr.Recognizer()\n",
    "    with sr.AudioFile(files_dir+f'{i}_'+audio_file) as source:\n",
    "        audio = r.record(source)\n",
    "        audio_samples.append(audio)\n",
    "\n",
    "\n",
    "text = [r.recognize_whisper(audio, language='portuguese') for audio in audio_samples]\n",
    "print(text)\n",
    "\n",
    "# text = r.recognize_whisper(audio, language='portuguese', translate=True)\n",
    "# print(text)\n",
    "\n",
    "with open(files_dir+text_file, 'w') as f:\n",
    "    for s in text:\n",
    "        f.write(s+'\\n')"
   ]
  },
  {
   "cell_type": "markdown",
   "metadata": {},
   "source": [
    "# Tradução"
   ]
  },
  {
   "cell_type": "code",
   "execution_count": 25,
   "metadata": {},
   "outputs": [
    {
     "name": "stdout",
     "output_type": "stream",
     "text": [
      "['Do you want to make money by working on the internet?', 'By rotimarte you have two ways to do this.', 'THE COMPRODUCT!', 'Or as an affiliate.', 'Today we are going to show the step by step for you']\n"
     ]
    }
   ],
   "source": [
    "tokenizer = AutoTokenizer.from_pretrained(\"unicamp-dl/translation-pt-en-t5\")\n",
    "model = AutoModelForSeq2SeqLM.from_pretrained(\"unicamp-dl/translation-pt-en-t5\")\n",
    "pten_pipeline = pipeline('text2text-generation', model=model, tokenizer=tokenizer)\n",
    "\n",
    "\n",
    "with open(files_dir+text_file, 'r') as f:\n",
    "    # text = f.read_line()\n",
    "    lines = [line.rstrip() for line in f]\n",
    "\n",
    "translations = [pten_pipeline(f\"translate Portuguese to English: {line}\")[0]['generated_text'] for line in lines]\n",
    "\n",
    "print(translations)\n",
    "with open(files_dir+new_text_file, 'w') as f:\n",
    "    for s in translations:\n",
    "        f.write(s+'\\n')"
   ]
  },
  {
   "cell_type": "markdown",
   "metadata": {},
   "source": [
    "# Sintetiza nova Fala"
   ]
  },
  {
   "cell_type": "code",
   "execution_count": 37,
   "metadata": {},
   "outputs": [],
   "source": [
    "synthesiser = pipeline(\"text-to-speech\", \"microsoft/speecht5_tts\")\n",
    "embeddings_dataset = load_dataset(\"Matthijs/cmu-arctic-xvectors\", split=\"validation\")\n",
    "speaker_embedding = torch.tensor(embeddings_dataset[1][\"xvector\"]).unsqueeze(0)\n",
    "\n",
    "with open(files_dir+new_text_file, 'r') as f:\n",
    "    lines = [line.rstrip() for line in f]\n",
    "\n",
    "# speeches = [synthesiser(text, forward_params={\"speaker_embeddings\": speaker_embedding}) for text in lines]\n",
    "\n",
    "speeches = []\n",
    "max_error = 15\n",
    "for text in lines:\n",
    "    error = 0\n",
    "    ok=False\n",
    "    while not ok:\n",
    "        try:\n",
    "            speeches.append(synthesiser(text, forward_params={\"speaker_embeddings\": speaker_embedding}))\n",
    "            ok=True\n",
    "        except ConnectionResetError:\n",
    "            error+=1\n",
    "            ok = error >=max_error\n",
    "\n",
    "\n",
    "\n",
    "\n",
    "# for i, speech in enumerate(speeches):\n",
    "#     sf.write(files_dir+f'{i}_'+new_audio_file, speech[\"audio\"], samplerate=speech[\"sampling_rate\"])"
   ]
  },
  {
   "cell_type": "markdown",
   "metadata": {},
   "source": [
    "# Sincroniza Falas "
   ]
  },
  {
   "cell_type": "code",
   "execution_count": 31,
   "metadata": {},
   "outputs": [
    {
     "name": "stdout",
     "output_type": "stream",
     "text": [
      "Moviepy - Building video ../files/0_test.mp4.\n",
      "MoviePy - Writing audio in 0_testTEMP_MPY_wvf_snd.mp3\n"
     ]
    },
    {
     "name": "stderr",
     "output_type": "stream",
     "text": [
      "                                                                 \r"
     ]
    },
    {
     "name": "stdout",
     "output_type": "stream",
     "text": [
      "MoviePy - Done.\n",
      "Moviepy - Writing video ../files/0_test.mp4\n",
      "\n"
     ]
    },
    {
     "name": "stderr",
     "output_type": "stream",
     "text": [
      "                                                             \r"
     ]
    },
    {
     "name": "stdout",
     "output_type": "stream",
     "text": [
      "Moviepy - Done !\n",
      "Moviepy - video ready ../files/0_test.mp4\n",
      "Moviepy - Building video ../files/1_test.mp4.\n",
      "MoviePy - Writing audio in 1_testTEMP_MPY_wvf_snd.mp3\n"
     ]
    },
    {
     "name": "stderr",
     "output_type": "stream",
     "text": [
      "                                                                 \r"
     ]
    },
    {
     "name": "stdout",
     "output_type": "stream",
     "text": [
      "MoviePy - Done.\n",
      "Moviepy - Writing video ../files/1_test.mp4\n",
      "\n"
     ]
    },
    {
     "name": "stderr",
     "output_type": "stream",
     "text": [
      "                                                             \r"
     ]
    },
    {
     "name": "stdout",
     "output_type": "stream",
     "text": [
      "Moviepy - Done !\n",
      "Moviepy - video ready ../files/1_test.mp4\n",
      "Moviepy - Building video ../files/2_test.mp4.\n",
      "MoviePy - Writing audio in 2_testTEMP_MPY_wvf_snd.mp3\n"
     ]
    },
    {
     "name": "stderr",
     "output_type": "stream",
     "text": [
      "                                                               \r"
     ]
    },
    {
     "name": "stdout",
     "output_type": "stream",
     "text": [
      "MoviePy - Done.\n",
      "Moviepy - Writing video ../files/2_test.mp4\n",
      "\n"
     ]
    },
    {
     "name": "stderr",
     "output_type": "stream",
     "text": [
      "                                                            \r"
     ]
    },
    {
     "name": "stdout",
     "output_type": "stream",
     "text": [
      "Moviepy - Done !\n",
      "Moviepy - video ready ../files/2_test.mp4\n",
      "Moviepy - Building video ../files/3_test.mp4.\n",
      "MoviePy - Writing audio in 3_testTEMP_MPY_wvf_snd.mp3\n"
     ]
    },
    {
     "name": "stderr",
     "output_type": "stream",
     "text": [
      "                                                                 \r"
     ]
    },
    {
     "name": "stdout",
     "output_type": "stream",
     "text": [
      "MoviePy - Done.\n",
      "Moviepy - Writing video ../files/3_test.mp4\n",
      "\n"
     ]
    },
    {
     "name": "stderr",
     "output_type": "stream",
     "text": [
      "                                                            \r"
     ]
    },
    {
     "name": "stdout",
     "output_type": "stream",
     "text": [
      "Moviepy - Done !\n",
      "Moviepy - video ready ../files/3_test.mp4\n",
      "Moviepy - Building video ../files/4_test.mp4.\n",
      "MoviePy - Writing audio in 4_testTEMP_MPY_wvf_snd.mp3\n"
     ]
    },
    {
     "name": "stderr",
     "output_type": "stream",
     "text": [
      "                                                                 \r"
     ]
    },
    {
     "name": "stdout",
     "output_type": "stream",
     "text": [
      "MoviePy - Done.\n",
      "Moviepy - Writing video ../files/4_test.mp4\n",
      "\n"
     ]
    },
    {
     "name": "stderr",
     "output_type": "stream",
     "text": [
      "                                                              \r"
     ]
    },
    {
     "name": "stdout",
     "output_type": "stream",
     "text": [
      "Moviepy - Done !\n",
      "Moviepy - video ready ../files/4_test.mp4\n"
     ]
    }
   ],
   "source": [
    "samples = [VideoFileClip(files_dir+f'{i}_'+sample_file) for i,_ in enumerate(speeches)]\n",
    "new_speeches = [AudioFileClip(files_dir+f'{i}_'+new_audio_file) for i,_ in enumerate(speeches)]\n",
    "\n",
    "for sample, speech in zip(samples, new_speeches):\n",
    "    sample.audio = speech\n",
    "\n",
    "for i, vid in enumerate(samples):\n",
    "    vid.write_videofile(files_dir+f'{i}_test.mp4')\n",
    "\n"
   ]
  },
  {
   "cell_type": "code",
   "execution_count": 32,
   "metadata": {},
   "outputs": [
    {
     "name": "stdout",
     "output_type": "stream",
     "text": [
      "Moviepy - Building video ../files/final_test.mp4.\n",
      "MoviePy - Writing audio in final_testTEMP_MPY_wvf_snd.mp3\n"
     ]
    },
    {
     "name": "stderr",
     "output_type": "stream",
     "text": [
      "                                                                    \r"
     ]
    },
    {
     "name": "stdout",
     "output_type": "stream",
     "text": [
      "MoviePy - Done.\n",
      "Moviepy - Writing video ../files/final_test.mp4\n",
      "\n"
     ]
    },
    {
     "name": "stderr",
     "output_type": "stream",
     "text": [
      "                                                               \r"
     ]
    },
    {
     "name": "stdout",
     "output_type": "stream",
     "text": [
      "Moviepy - Done !\n",
      "Moviepy - video ready ../files/final_test.mp4\n"
     ]
    }
   ],
   "source": [
    "\n",
    "samples = [VideoFileClip(files_dir+f'{i}_test.mp4') for i,_ in enumerate(samples)]\n",
    "\n",
    "video_final = concatenate_videoclips(samples)\n",
    "video_final.write_videofile(files_dir+'final_test.mp4')"
   ]
  }
 ],
 "metadata": {
  "kernelspec": {
   "display_name": ".venv",
   "language": "python",
   "name": "python3"
  },
  "language_info": {
   "codemirror_mode": {
    "name": "ipython",
    "version": 3
   },
   "file_extension": ".py",
   "mimetype": "text/x-python",
   "name": "python",
   "nbconvert_exporter": "python",
   "pygments_lexer": "ipython3",
   "version": "3.9.13"
  }
 },
 "nbformat": 4,
 "nbformat_minor": 2
}
